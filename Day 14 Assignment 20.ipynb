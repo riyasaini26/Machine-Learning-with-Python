{
 "cells": [
  {
   "cell_type": "code",
   "execution_count": 3,
   "id": "b307eac6",
   "metadata": {},
   "outputs": [
    {
     "data": {
      "text/html": [
       "<div>\n",
       "<style scoped>\n",
       "    .dataframe tbody tr th:only-of-type {\n",
       "        vertical-align: middle;\n",
       "    }\n",
       "\n",
       "    .dataframe tbody tr th {\n",
       "        vertical-align: top;\n",
       "    }\n",
       "\n",
       "    .dataframe thead th {\n",
       "        text-align: right;\n",
       "    }\n",
       "</style>\n",
       "<table border=\"1\" class=\"dataframe\">\n",
       "  <thead>\n",
       "    <tr style=\"text-align: right;\">\n",
       "      <th></th>\n",
       "      <th>meanfreq</th>\n",
       "      <th>sd</th>\n",
       "      <th>median</th>\n",
       "      <th>Q25</th>\n",
       "      <th>Q75</th>\n",
       "      <th>IQR</th>\n",
       "      <th>skew</th>\n",
       "      <th>kurt</th>\n",
       "      <th>sp.ent</th>\n",
       "      <th>sfm</th>\n",
       "      <th>...</th>\n",
       "      <th>centroid</th>\n",
       "      <th>meanfun</th>\n",
       "      <th>minfun</th>\n",
       "      <th>maxfun</th>\n",
       "      <th>meandom</th>\n",
       "      <th>mindom</th>\n",
       "      <th>maxdom</th>\n",
       "      <th>dfrange</th>\n",
       "      <th>modindx</th>\n",
       "      <th>label</th>\n",
       "    </tr>\n",
       "  </thead>\n",
       "  <tbody>\n",
       "    <tr>\n",
       "      <th>0</th>\n",
       "      <td>0.059781</td>\n",
       "      <td>0.064241</td>\n",
       "      <td>0.032027</td>\n",
       "      <td>0.015071</td>\n",
       "      <td>0.090193</td>\n",
       "      <td>0.075122</td>\n",
       "      <td>12.863462</td>\n",
       "      <td>274.402906</td>\n",
       "      <td>0.893369</td>\n",
       "      <td>0.491918</td>\n",
       "      <td>...</td>\n",
       "      <td>0.059781</td>\n",
       "      <td>0.084279</td>\n",
       "      <td>0.015702</td>\n",
       "      <td>0.275862</td>\n",
       "      <td>0.007812</td>\n",
       "      <td>0.007812</td>\n",
       "      <td>0.007812</td>\n",
       "      <td>0.000000</td>\n",
       "      <td>0.000000</td>\n",
       "      <td>male</td>\n",
       "    </tr>\n",
       "    <tr>\n",
       "      <th>1</th>\n",
       "      <td>0.066009</td>\n",
       "      <td>0.067310</td>\n",
       "      <td>0.040229</td>\n",
       "      <td>0.019414</td>\n",
       "      <td>0.092666</td>\n",
       "      <td>0.073252</td>\n",
       "      <td>22.423285</td>\n",
       "      <td>634.613855</td>\n",
       "      <td>0.892193</td>\n",
       "      <td>0.513724</td>\n",
       "      <td>...</td>\n",
       "      <td>0.066009</td>\n",
       "      <td>0.107937</td>\n",
       "      <td>0.015826</td>\n",
       "      <td>0.250000</td>\n",
       "      <td>0.009014</td>\n",
       "      <td>0.007812</td>\n",
       "      <td>0.054688</td>\n",
       "      <td>0.046875</td>\n",
       "      <td>0.052632</td>\n",
       "      <td>male</td>\n",
       "    </tr>\n",
       "    <tr>\n",
       "      <th>2</th>\n",
       "      <td>0.077316</td>\n",
       "      <td>0.083829</td>\n",
       "      <td>0.036718</td>\n",
       "      <td>0.008701</td>\n",
       "      <td>0.131908</td>\n",
       "      <td>0.123207</td>\n",
       "      <td>30.757155</td>\n",
       "      <td>1024.927705</td>\n",
       "      <td>0.846389</td>\n",
       "      <td>0.478905</td>\n",
       "      <td>...</td>\n",
       "      <td>0.077316</td>\n",
       "      <td>0.098706</td>\n",
       "      <td>0.015656</td>\n",
       "      <td>0.271186</td>\n",
       "      <td>0.007990</td>\n",
       "      <td>0.007812</td>\n",
       "      <td>0.015625</td>\n",
       "      <td>0.007812</td>\n",
       "      <td>0.046512</td>\n",
       "      <td>male</td>\n",
       "    </tr>\n",
       "    <tr>\n",
       "      <th>3</th>\n",
       "      <td>0.151228</td>\n",
       "      <td>0.072111</td>\n",
       "      <td>0.158011</td>\n",
       "      <td>0.096582</td>\n",
       "      <td>0.207955</td>\n",
       "      <td>0.111374</td>\n",
       "      <td>1.232831</td>\n",
       "      <td>4.177296</td>\n",
       "      <td>0.963322</td>\n",
       "      <td>0.727232</td>\n",
       "      <td>...</td>\n",
       "      <td>0.151228</td>\n",
       "      <td>0.088965</td>\n",
       "      <td>0.017798</td>\n",
       "      <td>0.250000</td>\n",
       "      <td>0.201497</td>\n",
       "      <td>0.007812</td>\n",
       "      <td>0.562500</td>\n",
       "      <td>0.554688</td>\n",
       "      <td>0.247119</td>\n",
       "      <td>male</td>\n",
       "    </tr>\n",
       "    <tr>\n",
       "      <th>4</th>\n",
       "      <td>0.135120</td>\n",
       "      <td>0.079146</td>\n",
       "      <td>0.124656</td>\n",
       "      <td>0.078720</td>\n",
       "      <td>0.206045</td>\n",
       "      <td>0.127325</td>\n",
       "      <td>1.101174</td>\n",
       "      <td>4.333713</td>\n",
       "      <td>0.971955</td>\n",
       "      <td>0.783568</td>\n",
       "      <td>...</td>\n",
       "      <td>0.135120</td>\n",
       "      <td>0.106398</td>\n",
       "      <td>0.016931</td>\n",
       "      <td>0.266667</td>\n",
       "      <td>0.712812</td>\n",
       "      <td>0.007812</td>\n",
       "      <td>5.484375</td>\n",
       "      <td>5.476562</td>\n",
       "      <td>0.208274</td>\n",
       "      <td>male</td>\n",
       "    </tr>\n",
       "    <tr>\n",
       "      <th>...</th>\n",
       "      <td>...</td>\n",
       "      <td>...</td>\n",
       "      <td>...</td>\n",
       "      <td>...</td>\n",
       "      <td>...</td>\n",
       "      <td>...</td>\n",
       "      <td>...</td>\n",
       "      <td>...</td>\n",
       "      <td>...</td>\n",
       "      <td>...</td>\n",
       "      <td>...</td>\n",
       "      <td>...</td>\n",
       "      <td>...</td>\n",
       "      <td>...</td>\n",
       "      <td>...</td>\n",
       "      <td>...</td>\n",
       "      <td>...</td>\n",
       "      <td>...</td>\n",
       "      <td>...</td>\n",
       "      <td>...</td>\n",
       "      <td>...</td>\n",
       "    </tr>\n",
       "    <tr>\n",
       "      <th>3163</th>\n",
       "      <td>0.131884</td>\n",
       "      <td>0.084734</td>\n",
       "      <td>0.153707</td>\n",
       "      <td>0.049285</td>\n",
       "      <td>0.201144</td>\n",
       "      <td>0.151859</td>\n",
       "      <td>1.762129</td>\n",
       "      <td>6.630383</td>\n",
       "      <td>0.962934</td>\n",
       "      <td>0.763182</td>\n",
       "      <td>...</td>\n",
       "      <td>0.131884</td>\n",
       "      <td>0.182790</td>\n",
       "      <td>0.083770</td>\n",
       "      <td>0.262295</td>\n",
       "      <td>0.832899</td>\n",
       "      <td>0.007812</td>\n",
       "      <td>4.210938</td>\n",
       "      <td>4.203125</td>\n",
       "      <td>0.161929</td>\n",
       "      <td>female</td>\n",
       "    </tr>\n",
       "    <tr>\n",
       "      <th>3164</th>\n",
       "      <td>0.116221</td>\n",
       "      <td>0.089221</td>\n",
       "      <td>0.076758</td>\n",
       "      <td>0.042718</td>\n",
       "      <td>0.204911</td>\n",
       "      <td>0.162193</td>\n",
       "      <td>0.693730</td>\n",
       "      <td>2.503954</td>\n",
       "      <td>0.960716</td>\n",
       "      <td>0.709570</td>\n",
       "      <td>...</td>\n",
       "      <td>0.116221</td>\n",
       "      <td>0.188980</td>\n",
       "      <td>0.034409</td>\n",
       "      <td>0.275862</td>\n",
       "      <td>0.909856</td>\n",
       "      <td>0.039062</td>\n",
       "      <td>3.679688</td>\n",
       "      <td>3.640625</td>\n",
       "      <td>0.277897</td>\n",
       "      <td>female</td>\n",
       "    </tr>\n",
       "    <tr>\n",
       "      <th>3165</th>\n",
       "      <td>0.142056</td>\n",
       "      <td>0.095798</td>\n",
       "      <td>0.183731</td>\n",
       "      <td>0.033424</td>\n",
       "      <td>0.224360</td>\n",
       "      <td>0.190936</td>\n",
       "      <td>1.876502</td>\n",
       "      <td>6.604509</td>\n",
       "      <td>0.946854</td>\n",
       "      <td>0.654196</td>\n",
       "      <td>...</td>\n",
       "      <td>0.142056</td>\n",
       "      <td>0.209918</td>\n",
       "      <td>0.039506</td>\n",
       "      <td>0.275862</td>\n",
       "      <td>0.494271</td>\n",
       "      <td>0.007812</td>\n",
       "      <td>2.937500</td>\n",
       "      <td>2.929688</td>\n",
       "      <td>0.194759</td>\n",
       "      <td>female</td>\n",
       "    </tr>\n",
       "    <tr>\n",
       "      <th>3166</th>\n",
       "      <td>0.143659</td>\n",
       "      <td>0.090628</td>\n",
       "      <td>0.184976</td>\n",
       "      <td>0.043508</td>\n",
       "      <td>0.219943</td>\n",
       "      <td>0.176435</td>\n",
       "      <td>1.591065</td>\n",
       "      <td>5.388298</td>\n",
       "      <td>0.950436</td>\n",
       "      <td>0.675470</td>\n",
       "      <td>...</td>\n",
       "      <td>0.143659</td>\n",
       "      <td>0.172375</td>\n",
       "      <td>0.034483</td>\n",
       "      <td>0.250000</td>\n",
       "      <td>0.791360</td>\n",
       "      <td>0.007812</td>\n",
       "      <td>3.593750</td>\n",
       "      <td>3.585938</td>\n",
       "      <td>0.311002</td>\n",
       "      <td>female</td>\n",
       "    </tr>\n",
       "    <tr>\n",
       "      <th>3167</th>\n",
       "      <td>0.165509</td>\n",
       "      <td>0.092884</td>\n",
       "      <td>0.183044</td>\n",
       "      <td>0.070072</td>\n",
       "      <td>0.250827</td>\n",
       "      <td>0.180756</td>\n",
       "      <td>1.705029</td>\n",
       "      <td>5.769115</td>\n",
       "      <td>0.938829</td>\n",
       "      <td>0.601529</td>\n",
       "      <td>...</td>\n",
       "      <td>0.165509</td>\n",
       "      <td>0.185607</td>\n",
       "      <td>0.062257</td>\n",
       "      <td>0.271186</td>\n",
       "      <td>0.227022</td>\n",
       "      <td>0.007812</td>\n",
       "      <td>0.554688</td>\n",
       "      <td>0.546875</td>\n",
       "      <td>0.350000</td>\n",
       "      <td>female</td>\n",
       "    </tr>\n",
       "  </tbody>\n",
       "</table>\n",
       "<p>3168 rows × 21 columns</p>\n",
       "</div>"
      ],
      "text/plain": [
       "      meanfreq        sd    median       Q25       Q75       IQR       skew  \\\n",
       "0     0.059781  0.064241  0.032027  0.015071  0.090193  0.075122  12.863462   \n",
       "1     0.066009  0.067310  0.040229  0.019414  0.092666  0.073252  22.423285   \n",
       "2     0.077316  0.083829  0.036718  0.008701  0.131908  0.123207  30.757155   \n",
       "3     0.151228  0.072111  0.158011  0.096582  0.207955  0.111374   1.232831   \n",
       "4     0.135120  0.079146  0.124656  0.078720  0.206045  0.127325   1.101174   \n",
       "...        ...       ...       ...       ...       ...       ...        ...   \n",
       "3163  0.131884  0.084734  0.153707  0.049285  0.201144  0.151859   1.762129   \n",
       "3164  0.116221  0.089221  0.076758  0.042718  0.204911  0.162193   0.693730   \n",
       "3165  0.142056  0.095798  0.183731  0.033424  0.224360  0.190936   1.876502   \n",
       "3166  0.143659  0.090628  0.184976  0.043508  0.219943  0.176435   1.591065   \n",
       "3167  0.165509  0.092884  0.183044  0.070072  0.250827  0.180756   1.705029   \n",
       "\n",
       "             kurt    sp.ent       sfm  ...  centroid   meanfun    minfun  \\\n",
       "0      274.402906  0.893369  0.491918  ...  0.059781  0.084279  0.015702   \n",
       "1      634.613855  0.892193  0.513724  ...  0.066009  0.107937  0.015826   \n",
       "2     1024.927705  0.846389  0.478905  ...  0.077316  0.098706  0.015656   \n",
       "3        4.177296  0.963322  0.727232  ...  0.151228  0.088965  0.017798   \n",
       "4        4.333713  0.971955  0.783568  ...  0.135120  0.106398  0.016931   \n",
       "...           ...       ...       ...  ...       ...       ...       ...   \n",
       "3163     6.630383  0.962934  0.763182  ...  0.131884  0.182790  0.083770   \n",
       "3164     2.503954  0.960716  0.709570  ...  0.116221  0.188980  0.034409   \n",
       "3165     6.604509  0.946854  0.654196  ...  0.142056  0.209918  0.039506   \n",
       "3166     5.388298  0.950436  0.675470  ...  0.143659  0.172375  0.034483   \n",
       "3167     5.769115  0.938829  0.601529  ...  0.165509  0.185607  0.062257   \n",
       "\n",
       "        maxfun   meandom    mindom    maxdom   dfrange   modindx   label  \n",
       "0     0.275862  0.007812  0.007812  0.007812  0.000000  0.000000    male  \n",
       "1     0.250000  0.009014  0.007812  0.054688  0.046875  0.052632    male  \n",
       "2     0.271186  0.007990  0.007812  0.015625  0.007812  0.046512    male  \n",
       "3     0.250000  0.201497  0.007812  0.562500  0.554688  0.247119    male  \n",
       "4     0.266667  0.712812  0.007812  5.484375  5.476562  0.208274    male  \n",
       "...        ...       ...       ...       ...       ...       ...     ...  \n",
       "3163  0.262295  0.832899  0.007812  4.210938  4.203125  0.161929  female  \n",
       "3164  0.275862  0.909856  0.039062  3.679688  3.640625  0.277897  female  \n",
       "3165  0.275862  0.494271  0.007812  2.937500  2.929688  0.194759  female  \n",
       "3166  0.250000  0.791360  0.007812  3.593750  3.585938  0.311002  female  \n",
       "3167  0.271186  0.227022  0.007812  0.554688  0.546875  0.350000  female  \n",
       "\n",
       "[3168 rows x 21 columns]"
      ]
     },
     "execution_count": 3,
     "metadata": {},
     "output_type": "execute_result"
    }
   ],
   "source": [
    "import pandas as pd\n",
    "import matplotlib.pyplot as plt\n",
    "%matplotlib inline\n",
    "import os\n",
    "os.getcwd()\n",
    "os.chdir('D:\\\\RIYA\\\\college stuff\\\\ML with python')\n",
    "os.getcwd()\n",
    "voice = pd.read_csv('voice.csv')\n",
    "voice\n"
   ]
  },
  {
   "cell_type": "code",
   "execution_count": 4,
   "id": "d632c458",
   "metadata": {},
   "outputs": [
    {
     "name": "stdout",
     "output_type": "stream",
     "text": [
      "<class 'pandas.core.frame.DataFrame'>\n",
      "RangeIndex: 3168 entries, 0 to 3167\n",
      "Data columns (total 21 columns):\n",
      " #   Column    Non-Null Count  Dtype  \n",
      "---  ------    --------------  -----  \n",
      " 0   meanfreq  3168 non-null   float64\n",
      " 1   sd        3168 non-null   float64\n",
      " 2   median    3168 non-null   float64\n",
      " 3   Q25       3168 non-null   float64\n",
      " 4   Q75       3168 non-null   float64\n",
      " 5   IQR       3168 non-null   float64\n",
      " 6   skew      3168 non-null   float64\n",
      " 7   kurt      3168 non-null   float64\n",
      " 8   sp.ent    3168 non-null   float64\n",
      " 9   sfm       3168 non-null   float64\n",
      " 10  mode      3168 non-null   float64\n",
      " 11  centroid  3168 non-null   float64\n",
      " 12  meanfun   3168 non-null   float64\n",
      " 13  minfun    3168 non-null   float64\n",
      " 14  maxfun    3168 non-null   float64\n",
      " 15  meandom   3168 non-null   float64\n",
      " 16  mindom    3168 non-null   float64\n",
      " 17  maxdom    3168 non-null   float64\n",
      " 18  dfrange   3168 non-null   float64\n",
      " 19  modindx   3168 non-null   float64\n",
      " 20  label     3168 non-null   object \n",
      "dtypes: float64(20), object(1)\n",
      "memory usage: 519.9+ KB\n",
      "None\n",
      "          meanfreq           sd       median          Q25          Q75  \\\n",
      "count  3168.000000  3168.000000  3168.000000  3168.000000  3168.000000   \n",
      "mean      0.180907     0.057126     0.185621     0.140456     0.224765   \n",
      "std       0.029918     0.016652     0.036360     0.048680     0.023639   \n",
      "min       0.039363     0.018363     0.010975     0.000229     0.042946   \n",
      "25%       0.163662     0.041954     0.169593     0.111087     0.208747   \n",
      "50%       0.184838     0.059155     0.190032     0.140286     0.225684   \n",
      "75%       0.199146     0.067020     0.210618     0.175939     0.243660   \n",
      "max       0.251124     0.115273     0.261224     0.247347     0.273469   \n",
      "\n",
      "               IQR         skew         kurt       sp.ent          sfm  \\\n",
      "count  3168.000000  3168.000000  3168.000000  3168.000000  3168.000000   \n",
      "mean      0.084309     3.140168    36.568461     0.895127     0.408216   \n",
      "std       0.042783     4.240529   134.928661     0.044980     0.177521   \n",
      "min       0.014558     0.141735     2.068455     0.738651     0.036876   \n",
      "25%       0.042560     1.649569     5.669547     0.861811     0.258041   \n",
      "50%       0.094280     2.197101     8.318463     0.901767     0.396335   \n",
      "75%       0.114175     2.931694    13.648905     0.928713     0.533676   \n",
      "max       0.252225    34.725453  1309.612887     0.981997     0.842936   \n",
      "\n",
      "              mode     centroid      meanfun       minfun       maxfun  \\\n",
      "count  3168.000000  3168.000000  3168.000000  3168.000000  3168.000000   \n",
      "mean      0.165282     0.180907     0.142807     0.036802     0.258842   \n",
      "std       0.077203     0.029918     0.032304     0.019220     0.030077   \n",
      "min       0.000000     0.039363     0.055565     0.009775     0.103093   \n",
      "25%       0.118016     0.163662     0.116998     0.018223     0.253968   \n",
      "50%       0.186599     0.184838     0.140519     0.046110     0.271186   \n",
      "75%       0.221104     0.199146     0.169581     0.047904     0.277457   \n",
      "max       0.280000     0.251124     0.237636     0.204082     0.279114   \n",
      "\n",
      "           meandom       mindom       maxdom      dfrange      modindx  \n",
      "count  3168.000000  3168.000000  3168.000000  3168.000000  3168.000000  \n",
      "mean      0.829211     0.052647     5.047277     4.994630     0.173752  \n",
      "std       0.525205     0.063299     3.521157     3.520039     0.119454  \n",
      "min       0.007812     0.004883     0.007812     0.000000     0.000000  \n",
      "25%       0.419828     0.007812     2.070312     2.044922     0.099766  \n",
      "50%       0.765795     0.023438     4.992188     4.945312     0.139357  \n",
      "75%       1.177166     0.070312     7.007812     6.992188     0.209183  \n",
      "max       2.957682     0.458984    21.867188    21.843750     0.932374  \n"
     ]
    }
   ],
   "source": [
    "print(voice.info())\n",
    "print(voice.describe())"
   ]
  },
  {
   "cell_type": "code",
   "execution_count": 5,
   "id": "54d3f1d9",
   "metadata": {},
   "outputs": [
    {
     "name": "stdout",
     "output_type": "stream",
     "text": [
      "meanfreq    0\n",
      "sd          0\n",
      "median      0\n",
      "Q25         0\n",
      "Q75         0\n",
      "IQR         0\n",
      "skew        0\n",
      "kurt        0\n",
      "sp.ent      0\n",
      "sfm         0\n",
      "mode        0\n",
      "centroid    0\n",
      "meanfun     0\n",
      "minfun      0\n",
      "maxfun      0\n",
      "meandom     0\n",
      "mindom      0\n",
      "maxdom      0\n",
      "dfrange     0\n",
      "modindx     0\n",
      "label       0\n",
      "dtype: int64\n"
     ]
    }
   ],
   "source": [
    "print(voice.isnull().sum())"
   ]
  },
  {
   "cell_type": "code",
   "execution_count": 8,
   "id": "05d4ec4a",
   "metadata": {},
   "outputs": [
    {
     "name": "stdout",
     "output_type": "stream",
     "text": [
      "label\n",
      "female    1584\n",
      "male      1584\n",
      "dtype: int64\n",
      "meanfreq    float64\n",
      "sd          float64\n",
      "median      float64\n",
      "Q25         float64\n",
      "Q75         float64\n",
      "IQR         float64\n",
      "skew        float64\n",
      "kurt        float64\n",
      "sp.ent      float64\n",
      "sfm         float64\n",
      "mode        float64\n",
      "centroid    float64\n",
      "meanfun     float64\n",
      "minfun      float64\n",
      "maxfun      float64\n",
      "meandom     float64\n",
      "mindom      float64\n",
      "maxdom      float64\n",
      "dfrange     float64\n",
      "modindx     float64\n",
      "label        object\n",
      "dtype: object\n"
     ]
    }
   ],
   "source": [
    "print(voice.groupby('label').size())\n",
    "print(voice.dtypes)"
   ]
  },
  {
   "cell_type": "code",
   "execution_count": 10,
   "id": "7f1d046d",
   "metadata": {},
   "outputs": [
    {
     "name": "stdout",
     "output_type": "stream",
     "text": [
      "Index(['meanfreq', 'sd', 'median', 'Q25', 'Q75', 'IQR', 'skew', 'kurt',\n",
      "       'sp.ent', 'sfm', 'mode', 'centroid', 'meanfun', 'minfun', 'maxfun',\n",
      "       'meandom', 'mindom', 'maxdom', 'dfrange', 'modindx', 'label'],\n",
      "      dtype='object')\n"
     ]
    }
   ],
   "source": [
    "cols = voice.columns\n",
    "print(cols)"
   ]
  },
  {
   "cell_type": "code",
   "execution_count": 13,
   "id": "51c53a59",
   "metadata": {},
   "outputs": [
    {
     "name": "stdout",
     "output_type": "stream",
     "text": [
      "[[0.05978098 0.06424127 0.03202691 ... 0.0078125  0.         0.        ]\n",
      " [0.06600874 0.06731003 0.04022873 ... 0.0546875  0.046875   0.05263158]\n",
      " [0.0773155  0.08382942 0.03671846 ... 0.015625   0.0078125  0.04651163]\n",
      " ...\n",
      " [0.14205626 0.09579843 0.18373124 ... 2.9375     2.9296875  0.19475862]\n",
      " [0.14365874 0.09062826 0.18497617 ... 3.59375    3.5859375  0.31100218]\n",
      " [0.16550895 0.09288354 0.18304392 ... 0.5546875  0.546875   0.35      ]]\n",
      "['male' 'male' 'male' ... 'female' 'female' 'female']\n"
     ]
    }
   ],
   "source": [
    "X,y = voice.iloc[:,:-1].values,voice.iloc[:,-1].values\n",
    "print(X)\n",
    "print(y)"
   ]
  },
  {
   "cell_type": "code",
   "execution_count": 14,
   "id": "3b4c86a2",
   "metadata": {},
   "outputs": [
    {
     "name": "stdout",
     "output_type": "stream",
     "text": [
      "[1 1 1 ... 0 0 0]\n"
     ]
    }
   ],
   "source": [
    "from sklearn.preprocessing import LabelEncoder\n",
    "label_encoder = LabelEncoder()\n",
    "y = label_encoder.fit_transform(y)\n",
    "print(y)"
   ]
  },
  {
   "cell_type": "code",
   "execution_count": 20,
   "id": "8433c6f9",
   "metadata": {},
   "outputs": [
    {
     "name": "stdout",
     "output_type": "stream",
     "text": [
      "(2534, 20)\n",
      "(634, 20)\n"
     ]
    }
   ],
   "source": [
    "from sklearn.model_selection import train_test_split\n",
    "X_train,X_test,y_train,y_test = train_test_split(X,y,test_size=0.2,random_state=1)\n",
    "print(X_train.shape)\n",
    "print(X_test.shape)"
   ]
  },
  {
   "cell_type": "code",
   "execution_count": 21,
   "id": "5e2009a6",
   "metadata": {},
   "outputs": [
    {
     "name": "stderr",
     "output_type": "stream",
     "text": [
      "C:\\Users\\91988\\anaconda3\\lib\\site-packages\\sklearn\\linear_model\\_logistic.py:814: ConvergenceWarning: lbfgs failed to converge (status=1):\n",
      "STOP: TOTAL NO. of ITERATIONS REACHED LIMIT.\n",
      "\n",
      "Increase the number of iterations (max_iter) or scale the data as shown in:\n",
      "    https://scikit-learn.org/stable/modules/preprocessing.html\n",
      "Please also refer to the documentation for alternative solver options:\n",
      "    https://scikit-learn.org/stable/modules/linear_model.html#logistic-regression\n",
      "  n_iter_i = _check_optimize_result(\n"
     ]
    },
    {
     "data": {
      "text/plain": [
       "LogisticRegression()"
      ]
     },
     "execution_count": 21,
     "metadata": {},
     "output_type": "execute_result"
    }
   ],
   "source": [
    "from sklearn.linear_model import LogisticRegression\n",
    "lr = LogisticRegression()\n",
    "lr.fit(X_train,y_train)"
   ]
  },
  {
   "cell_type": "code",
   "execution_count": 22,
   "id": "d9704656",
   "metadata": {},
   "outputs": [
    {
     "name": "stdout",
     "output_type": "stream",
     "text": [
      "[0 1 1 0 0 0 0 0 1 1 1 1 1 0 0 1 1 1 1 0 0 1 0 1 1 1 0 1 1 1 0 0 1 1 0 1 0\n",
      " 1 0 1 1 1 1 1 0 0 1 0 1 1 0 0 1 1 1 1 1 1 1 0 1 1 1 1 0 1 0 0 0 1 1 0 0 1\n",
      " 1 1 1 0 1 0 1 1 1 0 0 0 1 1 1 1 1 1 0 1 1 1 1 0 0 1 1 1 1 1 1 0 0 1 0 1 1\n",
      " 1 1 0 0 0 1 1 1 1 0 0 1 0 1 0 0 0 1 1 0 1 0 1 1 0 1 0 1 1 0 0 1 1 1 0 0 1\n",
      " 0 1 1 1 0 0 0 0 1 0 1 0 1 1 0 1 0 0 0 0 0 0 1 1 0 0 1 1 1 0 0 1 1 1 1 1 1\n",
      " 1 0 0 1 1 1 1 1 1 1 1 0 0 1 1 0 1 1 0 1 0 0 1 0 0 0 1 1 0 1 1 1 1 1 1 1 1\n",
      " 1 0 1 0 1 0 1 0 0 1 1 1 1 1 1 1 1 1 1 0 0 1 0 1 0 0 1 0 1 0 1 0 0 0 1 0 1\n",
      " 0 0 1 1 1 1 0 1 1 0 0 0 1 0 1 1 1 0 0 1 1 0 1 0 1 1 1 1 0 1 0 1 1 0 0 1 1\n",
      " 0 1 0 1 0 0 1 1 1 1 1 0 0 1 1 0 1 1 1 1 1 0 0 0 0 0 1 1 1 1 1 0 0 0 1 1 1\n",
      " 1 0 0 0 1 0 1 1 0 1 0 0 0 1 0 1 1 1 1 1 1 1 1 0 1 0 0 1 1 1 1 1 0 0 1 0 1\n",
      " 1 1 1 1 0 0 1 1 1 0 0 0 1 0 0 1 1 1 1 1 1 1 1 1 1 1 0 0 1 1 0 0 1 1 0 1 0\n",
      " 1 0 0 1 0 1 0 0 1 0 1 0 1 1 0 0 1 0 0 1 0 0 0 0 1 0 1 0 1 1 1 1 0 1 1 1 0\n",
      " 0 0 1 1 1 0 0 1 1 0 0 0 1 0 1 0 1 0 1 0 1 1 1 1 0 0 1 1 0 1 1 1 1 0 0 1 1\n",
      " 1 0 1 1 1 1 1 0 1 1 0 1 1 0 1 0 1 0 0 1 0 1 1 1 0 0 0 0 0 0 0 1 0 0 0 1 1\n",
      " 1 0 1 0 0 0 0 1 1 1 1 0 0 1 1 0 0 0 1 1 1 0 0 1 0 1 0 0 0 1 0 0 1 1 0 0 1\n",
      " 1 1 0 0 0 1 1 1 1 0 0 1 0 0 1 1 0 1 1 1 0 0 0 1 1 1 0 1 0 1 0 1 0 1 1 0 0\n",
      " 0 1 1 1 1 0 0 1 1 1 1 1 1 0 1 0 1 1 1 0 1 0 1 1 1 1 0 1 1 1 0 1 0 0 0 0 0\n",
      " 0 1 1 1 1]\n"
     ]
    }
   ],
   "source": [
    "y_predict = lr.predict(X_test)\n",
    "print(y_predict)"
   ]
  },
  {
   "cell_type": "code",
   "execution_count": 23,
   "id": "7f556c14",
   "metadata": {},
   "outputs": [
    {
     "name": "stdout",
     "output_type": "stream",
     "text": [
      "0.8848580441640379\n"
     ]
    }
   ],
   "source": [
    "from sklearn.metrics import accuracy_score\n",
    "print(accuracy_score(y_predict,y_test))"
   ]
  },
  {
   "cell_type": "code",
   "execution_count": 25,
   "id": "f2d11a16",
   "metadata": {},
   "outputs": [
    {
     "name": "stdout",
     "output_type": "stream",
     "text": [
      "              precision    recall  f1-score   support\n",
      "\n",
      "           0       0.81      0.95      0.87       266\n",
      "           1       0.96      0.84      0.89       368\n",
      "\n",
      "    accuracy                           0.88       634\n",
      "   macro avg       0.88      0.89      0.88       634\n",
      "weighted avg       0.90      0.88      0.89       634\n",
      "\n"
     ]
    }
   ],
   "source": [
    "from sklearn.metrics import classification_report\n",
    "print(classification_report(y_predict,y_test))"
   ]
  },
  {
   "cell_type": "code",
   "execution_count": 26,
   "id": "0cb30e90",
   "metadata": {},
   "outputs": [
    {
     "name": "stdout",
     "output_type": "stream",
     "text": [
      "[[252  14]\n",
      " [ 59 309]]\n"
     ]
    }
   ],
   "source": [
    "from sklearn.metrics import confusion_matrix\n",
    "cm = confusion_matrix(y_predict,y_test)\n",
    "print(cm)"
   ]
  },
  {
   "cell_type": "code",
   "execution_count": 27,
   "id": "a3280f13",
   "metadata": {},
   "outputs": [
    {
     "name": "stdout",
     "output_type": "stream",
     "text": [
      "          meanfreq        sd    median       Q25       Q75       IQR  \\\n",
      "meanfreq  1.000000 -0.739039  0.925445  0.911416  0.740997 -0.627605   \n",
      "sd       -0.739039  1.000000 -0.562603 -0.846931 -0.161076  0.874660   \n",
      "median    0.925445 -0.562603  1.000000  0.774922  0.731849 -0.477352   \n",
      "Q25       0.911416 -0.846931  0.774922  1.000000  0.477140 -0.874189   \n",
      "Q75       0.740997 -0.161076  0.731849  0.477140  1.000000  0.009636   \n",
      "IQR      -0.627605  0.874660 -0.477352 -0.874189  0.009636  1.000000   \n",
      "skew     -0.322327  0.314597 -0.257407 -0.319475 -0.206339  0.249497   \n",
      "kurt     -0.316036  0.346241 -0.243382 -0.350182 -0.148881  0.316185   \n",
      "sp.ent   -0.601203  0.716620 -0.502005 -0.648126 -0.174905  0.640813   \n",
      "sfm      -0.784332  0.838086 -0.661690 -0.766875 -0.378198  0.663601   \n",
      "mode      0.687715 -0.529150  0.677433  0.591277  0.486857 -0.403764   \n",
      "centroid  1.000000 -0.739039  0.925445  0.911416  0.740997 -0.627605   \n",
      "meanfun   0.460844 -0.466281  0.414909  0.545035  0.155091 -0.534462   \n",
      "minfun    0.383937 -0.345609  0.337602  0.320994  0.258002 -0.222680   \n",
      "maxfun    0.274004 -0.129662  0.251328  0.199841  0.285584 -0.069588   \n",
      "meandom   0.536666 -0.482726  0.455943  0.467403  0.359181 -0.333362   \n",
      "mindom    0.229261 -0.357667  0.191169  0.302255 -0.023750 -0.357037   \n",
      "maxdom    0.519528 -0.482278  0.438919  0.459683  0.335114 -0.337877   \n",
      "dfrange   0.515570 -0.475999  0.435621  0.454394  0.335648 -0.331563   \n",
      "modindx  -0.216979  0.122660 -0.213298 -0.141377 -0.216475  0.041252   \n",
      "\n",
      "              skew      kurt    sp.ent       sfm      mode  centroid  \\\n",
      "meanfreq -0.322327 -0.316036 -0.601203 -0.784332  0.687715  1.000000   \n",
      "sd        0.314597  0.346241  0.716620  0.838086 -0.529150 -0.739039   \n",
      "median   -0.257407 -0.243382 -0.502005 -0.661690  0.677433  0.925445   \n",
      "Q25      -0.319475 -0.350182 -0.648126 -0.766875  0.591277  0.911416   \n",
      "Q75      -0.206339 -0.148881 -0.174905 -0.378198  0.486857  0.740997   \n",
      "IQR       0.249497  0.316185  0.640813  0.663601 -0.403764 -0.627605   \n",
      "skew      1.000000  0.977020 -0.195459  0.079694 -0.434859 -0.322327   \n",
      "kurt      0.977020  1.000000 -0.127644  0.109884 -0.406722 -0.316036   \n",
      "sp.ent   -0.195459 -0.127644  1.000000  0.866411 -0.325298 -0.601203   \n",
      "sfm       0.079694  0.109884  0.866411  1.000000 -0.485913 -0.784332   \n",
      "mode     -0.434859 -0.406722 -0.325298 -0.485913  1.000000  0.687715   \n",
      "centroid -0.322327 -0.316036 -0.601203 -0.784332  0.687715  1.000000   \n",
      "meanfun  -0.167668 -0.194560 -0.513194 -0.421066  0.324771  0.460844   \n",
      "minfun   -0.216954 -0.203201 -0.305826 -0.362100  0.385467  0.383937   \n",
      "maxfun   -0.080861 -0.045667 -0.120738 -0.192369  0.172329  0.274004   \n",
      "meandom  -0.336848 -0.303234 -0.293562 -0.428442  0.491479  0.536666   \n",
      "mindom   -0.061608 -0.103313 -0.294869 -0.289593  0.198150  0.229261   \n",
      "maxdom   -0.305651 -0.274500 -0.324253 -0.436649  0.477187  0.519528   \n",
      "dfrange  -0.304640 -0.272729 -0.319054 -0.431580  0.473775  0.515570   \n",
      "modindx  -0.169325 -0.205539  0.198074  0.211477 -0.182344 -0.216979   \n",
      "\n",
      "           meanfun    minfun    maxfun   meandom    mindom    maxdom  \\\n",
      "meanfreq  0.460844  0.383937  0.274004  0.536666  0.229261  0.519528   \n",
      "sd       -0.466281 -0.345609 -0.129662 -0.482726 -0.357667 -0.482278   \n",
      "median    0.414909  0.337602  0.251328  0.455943  0.191169  0.438919   \n",
      "Q25       0.545035  0.320994  0.199841  0.467403  0.302255  0.459683   \n",
      "Q75       0.155091  0.258002  0.285584  0.359181 -0.023750  0.335114   \n",
      "IQR      -0.534462 -0.222680 -0.069588 -0.333362 -0.357037 -0.337877   \n",
      "skew     -0.167668 -0.216954 -0.080861 -0.336848 -0.061608 -0.305651   \n",
      "kurt     -0.194560 -0.203201 -0.045667 -0.303234 -0.103313 -0.274500   \n",
      "sp.ent   -0.513194 -0.305826 -0.120738 -0.293562 -0.294869 -0.324253   \n",
      "sfm      -0.421066 -0.362100 -0.192369 -0.428442 -0.289593 -0.436649   \n",
      "mode      0.324771  0.385467  0.172329  0.491479  0.198150  0.477187   \n",
      "centroid  0.460844  0.383937  0.274004  0.536666  0.229261  0.519528   \n",
      "meanfun   1.000000  0.339387  0.311950  0.270840  0.162163  0.277982   \n",
      "minfun    0.339387  1.000000  0.213987  0.375979  0.082015  0.317860   \n",
      "maxfun    0.311950  0.213987  1.000000  0.337553 -0.243426  0.355390   \n",
      "meandom   0.270840  0.375979  0.337553  1.000000  0.099656  0.812838   \n",
      "mindom    0.162163  0.082015 -0.243426  0.099656  1.000000  0.026640   \n",
      "maxdom    0.277982  0.317860  0.355390  0.812838  0.026640  1.000000   \n",
      "dfrange   0.275154  0.316486  0.359880  0.811304  0.008666  0.999838   \n",
      "modindx  -0.054858  0.002042 -0.363029 -0.180954  0.200212 -0.425531   \n",
      "\n",
      "           dfrange   modindx  \n",
      "meanfreq  0.515570 -0.216979  \n",
      "sd       -0.475999  0.122660  \n",
      "median    0.435621 -0.213298  \n",
      "Q25       0.454394 -0.141377  \n",
      "Q75       0.335648 -0.216475  \n",
      "IQR      -0.331563  0.041252  \n",
      "skew     -0.304640 -0.169325  \n",
      "kurt     -0.272729 -0.205539  \n",
      "sp.ent   -0.319054  0.198074  \n",
      "sfm      -0.431580  0.211477  \n",
      "mode      0.473775 -0.182344  \n",
      "centroid  0.515570 -0.216979  \n",
      "meanfun   0.275154 -0.054858  \n",
      "minfun    0.316486  0.002042  \n",
      "maxfun    0.359880 -0.363029  \n",
      "meandom   0.811304 -0.180954  \n",
      "mindom    0.008666  0.200212  \n",
      "maxdom    0.999838 -0.425531  \n",
      "dfrange   1.000000 -0.429266  \n",
      "modindx  -0.429266  1.000000  \n"
     ]
    }
   ],
   "source": [
    "corr_matrix = voice.corr()\n",
    "print(corr_matrix)"
   ]
  },
  {
   "cell_type": "code",
   "execution_count": 31,
   "id": "30014f7a",
   "metadata": {},
   "outputs": [
    {
     "data": {
      "image/png": "[encoded data removed]",
      "text/plain": [
       "<Figure size 1440x1440 with 2 Axes>"
      ]
     },
     "metadata": {
      "needs_background": "light"
     },
     "output_type": "display_data"
    }
   ],
   "source": [
    "plt.figure(figsize=(20,20))\n",
    "import seaborn as sns\n",
    "sns.heatmap(corr_matrix,square=True)\n",
    "plt.show()"
   ]
  },
  {
   "cell_type": "code",
   "execution_count": 33,
   "id": "f12ca529",
   "metadata": {},
   "outputs": [],
   "source": [
    "def corelation(dataset,threshold):\n",
    "    col_corr = set()\n",
    "    corr_matrix = voice.corr()\n",
    "    for i in range(len(corr_matrix.columns)):\n",
    "        for j in range(i):\n",
    "            if corr_matrix.iloc[i,j]>threshold:\n",
    "                colname = corr_matrix.columns[i]\n",
    "                col_corr.add(colname)\n",
    "    return col_corr\n"
   ]
  },
  {
   "cell_type": "code",
   "execution_count": 35,
   "id": "7beabf98",
   "metadata": {},
   "outputs": [
    {
     "name": "stdout",
     "output_type": "stream",
     "text": [
      "{'centroid', 'maxdom', 'sfm', 'Q25', 'sp.ent', 'kurt', 'IQR', 'dfrange', 'Q75', 'median'}\n"
     ]
    }
   ],
   "source": [
    "cor_features = corelation(X_train,0.7)\n",
    "print(cor_features)"
   ]
  },
  {
   "cell_type": "code",
   "execution_count": 36,
   "id": "d3124f93",
   "metadata": {},
   "outputs": [],
   "source": [
    "voice = voice.drop(cor_features,axis=1)"
   ]
  },
  {
   "cell_type": "code",
   "execution_count": 37,
   "id": "1d5067d3",
   "metadata": {},
   "outputs": [
    {
     "name": "stdout",
     "output_type": "stream",
     "text": [
      "[[5.97809850e-02 6.42412677e-02 1.28634618e+01 ... 7.81250000e-03\n",
      "  7.81250000e-03 0.00000000e+00]\n",
      " [6.60087404e-02 6.73100288e-02 2.24232854e+01 ... 9.01442308e-03\n",
      "  7.81250000e-03 5.26315789e-02]\n",
      " [7.73155027e-02 8.38294209e-02 3.07571546e+01 ... 7.99005682e-03\n",
      "  7.81250000e-03 4.65116279e-02]\n",
      " ...\n",
      " [1.42056256e-01 9.57984263e-02 1.87650163e+00 ... 4.94270833e-01\n",
      "  7.81250000e-03 1.94758621e-01]\n",
      " [1.43658745e-01 9.06282610e-02 1.59106489e+00 ... 7.91360294e-01\n",
      "  7.81250000e-03 3.11002179e-01]\n",
      " [1.65508946e-01 9.28835369e-02 1.70502912e+00 ... 2.27022059e-01\n",
      "  7.81250000e-03 3.50000000e-01]]\n",
      "['male' 'male' 'male' ... 'female' 'female' 'female']\n"
     ]
    }
   ],
   "source": [
    "X,y = voice.iloc[:,:-1].values,voice.iloc[:,-1].values\n",
    "print(X)\n",
    "print(y)"
   ]
  },
  {
   "cell_type": "code",
   "execution_count": 38,
   "id": "f8b1783d",
   "metadata": {},
   "outputs": [
    {
     "name": "stdout",
     "output_type": "stream",
     "text": [
      "[1 1 1 ... 0 0 0]\n"
     ]
    }
   ],
   "source": [
    "from sklearn.preprocessing import LabelEncoder\n",
    "label_encoder = LabelEncoder()\n",
    "y = label_encoder.fit_transform(y)\n",
    "print (y)\n",
    "\n"
   ]
  },
  {
   "cell_type": "code",
   "execution_count": 39,
   "id": "6565c6d0",
   "metadata": {},
   "outputs": [
    {
     "name": "stdout",
     "output_type": "stream",
     "text": [
      "(2534, 10)\n",
      "(634, 10)\n"
     ]
    }
   ],
   "source": [
    "from sklearn.model_selection import train_test_split\n",
    "X_train, X_test, y_train, y_test = train_test_split(X, y, test_size=0.2, random_state=1)\n",
    "print (X_train.shape)\n",
    "print (X_test.shape)\n"
   ]
  },
  {
   "cell_type": "code",
   "execution_count": 40,
   "id": "6f726197",
   "metadata": {},
   "outputs": [
    {
     "data": {
      "text/plain": [
       "LogisticRegression()"
      ]
     },
     "execution_count": 40,
     "metadata": {},
     "output_type": "execute_result"
    }
   ],
   "source": [
    "from sklearn.linear_model import LogisticRegression\n",
    "lr = LogisticRegression()\n",
    "lr.fit(X_train,y_train)\n",
    "\n"
   ]
  },
  {
   "cell_type": "code",
   "execution_count": 41,
   "id": "875bf5fd",
   "metadata": {},
   "outputs": [
    {
     "data": {
      "text/plain": [
       "LogisticRegression()"
      ]
     },
     "execution_count": 41,
     "metadata": {},
     "output_type": "execute_result"
    }
   ],
   "source": [
    "from sklearn.linear_model import LogisticRegression\n",
    "lr = LogisticRegression()\n",
    "lr.fit(X_train,y_train)\n",
    "\n"
   ]
  },
  {
   "cell_type": "code",
   "execution_count": 42,
   "id": "e1868d81",
   "metadata": {},
   "outputs": [
    {
     "name": "stdout",
     "output_type": "stream",
     "text": [
      "0.8848580441640379\n"
     ]
    }
   ],
   "source": [
    "from sklearn.metrics import accuracy_score\n",
    "print(accuracy_score(y_predict,y_test))\n",
    "\n"
   ]
  },
  {
   "cell_type": "code",
   "execution_count": 43,
   "id": "7464105d",
   "metadata": {},
   "outputs": [
    {
     "name": "stdout",
     "output_type": "stream",
     "text": [
      "              precision    recall  f1-score   support\n",
      "\n",
      "           0       0.81      0.95      0.87       266\n",
      "           1       0.96      0.84      0.89       368\n",
      "\n",
      "    accuracy                           0.88       634\n",
      "   macro avg       0.88      0.89      0.88       634\n",
      "weighted avg       0.90      0.88      0.89       634\n",
      "\n"
     ]
    }
   ],
   "source": [
    "from sklearn.metrics import classification_report\n",
    "print(classification_report (y_predict,y_test))\n"
   ]
  },
  {
   "cell_type": "code",
   "execution_count": 44,
   "id": "89b8d134",
   "metadata": {},
   "outputs": [
    {
     "name": "stdout",
     "output_type": "stream",
     "text": [
      "[[252  14]\n",
      " [ 59 309]]\n"
     ]
    }
   ],
   "source": [
    "from sklearn.metrics import confusion_matrix \n",
    "cm = confusion_matrix (y_predict,y_test)\n",
    "print (cm)\n",
    "\n"
   ]
  },
  {
   "cell_type": "code",
   "execution_count": null,
   "id": "c6977768",
   "metadata": {},
   "outputs": [],
   "source": []
  }
 ],
 "metadata": {
  "kernelspec": {
   "display_name": "Python 3 (ipykernel)",
   "language": "python",
   "name": "python3"
  },
  "language_info": {
   "codemirror_mode": {
    "name": "ipython",
    "version": 3
   },
   "file_extension": ".py",
   "mimetype": "text/x-python",
   "name": "python",
   "nbconvert_exporter": "python",
   "pygments_lexer": "ipython3",
   "version": "3.9.12"
  }
 },
 "nbformat": 4,
 "nbformat_minor": 5
}
