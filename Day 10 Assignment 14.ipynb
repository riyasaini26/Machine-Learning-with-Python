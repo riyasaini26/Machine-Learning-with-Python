{
 "cells": [
  {
   "cell_type": "code",
   "execution_count": 2,
   "id": "73d70092",
   "metadata": {},
   "outputs": [
    {
     "name": "stdout",
     "output_type": "stream",
     "text": [
      "   Id       EmployeeName                                        JobTitle  \\\n",
      "0   1     NATHANIEL FORD  GENERAL MANAGER-METROPOLITAN TRANSIT AUTHORITY   \n",
      "1   2       GARY JIMENEZ                 CAPTAIN III (POLICE DEPARTMENT)   \n",
      "2   3     ALBERT PARDINI                 CAPTAIN III (POLICE DEPARTMENT)   \n",
      "3   4  CHRISTOPHER CHONG            WIRE ROPE CABLE MAINTENANCE MECHANIC   \n",
      "4   5    PATRICK GARDNER    DEPUTY CHIEF OF DEPARTMENT,(FIRE DEPARTMENT)   \n",
      "\n",
      "     BasePay  OvertimePay   OtherPay  Benefits   TotalPay  TotalPayBenefits  \\\n",
      "0  167411.18         0.00  400184.25       NaN  567595.43         567595.43   \n",
      "1  155966.02    245131.88  137811.38       NaN  538909.28         538909.28   \n",
      "2  212739.13    106088.18   16452.60       NaN  335279.91         335279.91   \n",
      "3   77916.00     56120.71  198306.90       NaN  332343.61         332343.61   \n",
      "4  134401.60      9737.00  182234.59       NaN  326373.19         326373.19   \n",
      "\n",
      "   Year  Notes         Agency Status  \n",
      "0  2011    NaN  San Francisco    NaN  \n",
      "1  2011    NaN  San Francisco    NaN  \n",
      "2  2011    NaN  San Francisco    NaN  \n",
      "3  2011    NaN  San Francisco    NaN  \n",
      "4  2011    NaN  San Francisco    NaN  \n",
      "<class 'pandas.core.frame.DataFrame'>\n",
      "RangeIndex: 148648 entries, 0 to 148647\n",
      "Data columns (total 13 columns):\n",
      " #   Column            Non-Null Count   Dtype  \n",
      "---  ------            --------------   -----  \n",
      " 0   Id                148648 non-null  int64  \n",
      " 1   EmployeeName      148648 non-null  object \n",
      " 2   JobTitle          148648 non-null  object \n",
      " 3   BasePay           148043 non-null  float64\n",
      " 4   OvertimePay       148648 non-null  float64\n",
      " 5   OtherPay          148648 non-null  float64\n",
      " 6   Benefits          112490 non-null  float64\n",
      " 7   TotalPay          148648 non-null  float64\n",
      " 8   TotalPayBenefits  148648 non-null  float64\n",
      " 9   Year              148648 non-null  int64  \n",
      " 10  Notes             0 non-null       float64\n",
      " 11  Agency            148648 non-null  object \n",
      " 12  Status            38119 non-null   object \n",
      "dtypes: float64(7), int64(2), object(4)\n",
      "memory usage: 14.7+ MB\n",
      "None\n",
      "                  Id        BasePay    OvertimePay       OtherPay  \\\n",
      "count  148648.000000  148043.000000  148648.000000  148648.000000   \n",
      "mean    74326.110220   66325.398119    5065.821161    3648.761721   \n",
      "std     42911.633315   42764.898947   11454.266982    8056.655841   \n",
      "min         1.000000    -166.010000      -0.010000   -7058.590000   \n",
      "25%     37163.750000   33587.350000       0.000000       0.000000   \n",
      "50%     74326.500000   65007.450000       0.000000     811.205000   \n",
      "75%    111488.250000   94691.050000    4657.597500    4236.035000   \n",
      "max    148654.000000  319275.010000  245131.880000  400184.250000   \n",
      "\n",
      "            Benefits       TotalPay  TotalPayBenefits           Year  Notes  \n",
      "count  112490.000000  148648.000000     148648.000000  148648.000000    0.0  \n",
      "mean    25007.777439   74770.035453      93694.776345    2012.522617    NaN  \n",
      "std     15402.235424   50516.440633      62792.743250       1.117526    NaN  \n",
      "min       -33.890000    -618.130000       -618.130000    2011.000000    NaN  \n",
      "25%     11535.192500   36169.370000      44072.062500    2012.000000    NaN  \n",
      "50%     28628.365000   71427.130000      92406.020000    2013.000000    NaN  \n",
      "75%     35566.790000  105840.920000     132876.997500    2014.000000    NaN  \n",
      "max     96570.660000  567595.430000     567595.430000    2014.000000    NaN  \n"
     ]
    },
    {
     "name": "stderr",
     "output_type": "stream",
     "text": [
      "C:\\Users\\91988\\AppData\\Local\\Temp\\ipykernel_7808\\3812195425.py:7: DtypeWarning: Columns (12) have mixed types. Specify dtype option on import or set low_memory=False.\n",
      "  salary = pd.read_csv('Salaries.csv')\n"
     ]
    }
   ],
   "source": [
    "import pandas as pd\n",
    "import numpy as np \n",
    "import matplotlib.pyplot as plt\n",
    "import os\n",
    "os.chdir('D:\\\\RIYA\\\\college stuff\\\\ML with python')\n",
    "os.getcwd()\n",
    "salary = pd.read_csv('Salaries.csv')\n",
    "salary\n",
    "print(salary.head())\n",
    "print(salary.info())\n",
    "print(salary.describe())"
   ]
  },
  {
   "cell_type": "code",
   "execution_count": 3,
   "id": "c299a031",
   "metadata": {},
   "outputs": [
    {
     "name": "stdout",
     "output_type": "stream",
     "text": [
      "Year\n",
      "2011    2.594113e+09\n",
      "2012    3.696790e+09\n",
      "2013    3.814772e+09\n",
      "2014    3.821866e+09\n",
      "Name: TotalPayBenefits, dtype: float64\n"
     ]
    }
   ],
   "source": [
    "\n",
    "sum_year = salary.groupby('Year').sum()['TotalPayBenefits']\n",
    "print ( sum_year)\n"
   ]
  },
  {
   "cell_type": "code",
   "execution_count": 4,
   "id": "45e15fec",
   "metadata": {},
   "outputs": [
    {
     "name": "stdout",
     "output_type": "stream",
     "text": [
      "Year\n",
      "2011     71743.819645\n",
      "2012    100551.886807\n",
      "2013    101440.519714\n",
      "2014    100261.438668\n",
      "Name: TotalPayBenefits, dtype: float64\n"
     ]
    }
   ],
   "source": [
    "mean_year = salary.groupby('Year').mean()['TotalPayBenefits']\n",
    "print ( mean_year)\n"
   ]
  },
  {
   "cell_type": "code",
   "execution_count": 5,
   "id": "e31246e3",
   "metadata": {},
   "outputs": [
    {
     "name": "stdout",
     "output_type": "stream",
     "text": [
      "Year  JobTitle                      \n",
      "2011  ACCOUNT CLERK                      44035.664337\n",
      "      ACCOUNTANT                         47429.268000\n",
      "      ACCOUNTANT INTERN                  29031.742917\n",
      "      ACUPUNCTURIST                      67594.400000\n",
      "      ADMINISTRATIVE ANALYST             63954.867527\n",
      "                                            ...      \n",
      "2014  Wire Rope Cable Maint Sprv        228338.090000\n",
      "      Worker's Comp Supervisor 1         76964.451667\n",
      "      Worker's Compensation Adjuster     97213.493846\n",
      "      X-Ray Laboratory Aide              68754.120000\n",
      "      Youth Comm Advisor                 52011.190000\n",
      "Name: TotalPayBenefits, Length: 4136, dtype: float64\n"
     ]
    }
   ],
   "source": [
    "mean_title_year = salary.groupby(['Year','JobTitle']).mean()['TotalPayBenefits']\n",
    "print ( mean_title_year)\n"
   ]
  },
  {
   "cell_type": "code",
   "execution_count": 6,
   "id": "5cd35c50",
   "metadata": {},
   "outputs": [
    {
     "name": "stdout",
     "output_type": "stream",
     "text": [
      "Year\n",
      "2011    1.638191e+08\n",
      "2012    1.846650e+08\n",
      "2013    1.986214e+08\n",
      "2014    2.059186e+08\n",
      "Name: OvertimePay, dtype: float64\n"
     ]
    }
   ],
   "source": [
    "over_time_pay_year = salary.groupby('Year').sum()['OvertimePay']\n",
    "print ( over_time_pay_year)\n"
   ]
  },
  {
   "cell_type": "code",
   "execution_count": 8,
   "id": "1abedcb1",
   "metadata": {},
   "outputs": [
    {
     "name": "stdout",
     "output_type": "stream",
     "text": [
      "Transit Operator                2479\n",
      "Special Nurse                   1478\n",
      "Registered Nurse                1234\n",
      "Public Svc Aide-Public Works     916\n",
      "Firefighter                      815\n",
      "Name: JobTitle, dtype: int64\n",
      "Transit Operator 2479\n",
      "Special Nurse 1478\n",
      "Registered Nurse 1234\n",
      "Public Svc Aide-Public Works 916\n",
      "Firefighter 815\n",
      " Total Cost of Top 5 Jobs in Year 2014  610269227.6600003\n"
     ]
    }
   ],
   "source": [
    "top_job_title = salary[salary['Year'] == 2014]['JobTitle'].value_counts().head(5)\n",
    "\n",
    "print (top_job_title)\n",
    "sum_cost = 0\n",
    "for index,value in top_job_title.iteritems():\n",
    "    print(index,value)\n",
    "    sum_cost += sum(salary[ (salary['Year']== 2014) & (salary['JobTitle'] == index)]['TotalPayBenefits'])\n",
    "\n",
    "print (\" Total Cost of Top 5 Jobs in Year 2014 \", sum_cost)\n",
    "\n"
   ]
  },
  {
   "cell_type": "code",
   "execution_count": 9,
   "id": "b0c5c6e2",
   "metadata": {},
   "outputs": [
    {
     "name": "stdout",
     "output_type": "stream",
     "text": [
      "EmployeeName\n",
      "Joe Lopez              -618.13\n",
      "David P Kucia           -33.89\n",
      "Mark E Laherty           -8.20\n",
      "Timothy E Gibson         -2.73\n",
      "Mark W Mcclure            0.00\n",
      "                       ...    \n",
      "Richard Lee         1268668.84\n",
      "Stanley Lee         1457279.68\n",
      "William Wong        1459954.17\n",
      "Steven Lee          1706550.76\n",
      "Kevin Lee           1778487.17\n",
      "Name: TotalPayBenefits, Length: 110809, dtype: float64\n"
     ]
    }
   ],
   "source": [
    "top_sal = salary.groupby('EmployeeName').sum()['TotalPayBenefits']\n",
    "print((top_sal.sort_values(axis=0)))\n"
   ]
  },
  {
   "cell_type": "code",
   "execution_count": null,
   "id": "c2098dc2",
   "metadata": {},
   "outputs": [],
   "source": []
  }
 ],
 "metadata": {
  "kernelspec": {
   "display_name": "Python 3 (ipykernel)",
   "language": "python",
   "name": "python3"
  },
  "language_info": {
   "codemirror_mode": {
    "name": "ipython",
    "version": 3
   },
   "file_extension": ".py",
   "mimetype": "text/x-python",
   "name": "python",
   "nbconvert_exporter": "python",
   "pygments_lexer": "ipython3",
   "version": "3.9.12"
  }
 },
 "nbformat": 4,
 "nbformat_minor": 5
}
