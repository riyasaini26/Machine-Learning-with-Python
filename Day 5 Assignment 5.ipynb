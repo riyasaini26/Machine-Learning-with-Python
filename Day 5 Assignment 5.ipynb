{
 "cells": [
  {
   "cell_type": "code",
   "execution_count": 1,
   "id": "fad295b9",
   "metadata": {},
   "outputs": [
    {
     "name": "stdout",
     "output_type": "stream",
     "text": [
      "4\n"
     ]
    }
   ],
   "source": [
    "nums = set([1,1,2,3,3,3,4,4])\n",
    "\n",
    "print(len(nums))"
   ]
  },
  {
   "cell_type": "code",
   "execution_count": 2,
   "id": "e9c117b9",
   "metadata": {},
   "outputs": [
    {
     "name": "stdout",
     "output_type": "stream",
     "text": [
      "['john', 'peter']\n"
     ]
    }
   ],
   "source": [
    "d = {\"john\":40, \"peter\":45}\n",
    "\n",
    "print(list(d.keys()))\n"
   ]
  },
  {
   "cell_type": "code",
   "execution_count": 3,
   "id": "b78f9563",
   "metadata": {},
   "outputs": [
    {
     "name": "stdout",
     "output_type": "stream",
     "text": [
      "4 is at position 1\n",
      "7 is at position 2\n",
      "3 is at position 3\n",
      "2 is at position 4\n",
      "5 is at position 5\n",
      "9 is at position 6\n"
     ]
    }
   ],
   "source": [
    "a = [4,7,3,2,5,9]\n",
    "for item in a:\n",
    "    print(str(item) + \" is at position \" + str(a.index(item) + 1))\n"
   ]
  },
  {
   "cell_type": "code",
   "execution_count": 6,
   "id": "12c43dc4",
   "metadata": {},
   "outputs": [
    {
     "name": "stdout",
     "output_type": "stream",
     "text": [
      "Enter String like H1e2l3l4o5w6o7r8l9d means alphanumeric string which wil contain alternate alphabates and numbers: \n",
      "w2d4v5g5c7e9s4c8c5c4\n",
      "wdvgcesccc\n"
     ]
    }
   ],
   "source": [
    "s=input(\"Enter String like H1e2l3l4o5w6o7r8l9d means alphanumeric string which wil contain alternate alphabates and numbers: \\n\")\n",
    "s = s[::2]\n",
    "print(s)\n",
    "\n"
   ]
  },
  {
   "cell_type": "code",
   "execution_count": 7,
   "id": "eb37c972",
   "metadata": {},
   "outputs": [
    {
     "name": "stdout",
     "output_type": "stream",
     "text": [
      "Enter the string you want to reverseHello Sir, How are you?\n",
      "?uoy era woH ,riS olleH\n"
     ]
    }
   ],
   "source": [
    "s = input(\"Enter the string you want to reverse\")\n",
    "s = s[::-1]\n",
    "print(s)"
   ]
  },
  {
   "cell_type": "code",
   "execution_count": 10,
   "id": "16b374a3",
   "metadata": {},
   "outputs": [
    {
     "name": "stdout",
     "output_type": "stream",
     "text": [
      "Enter stringzsesrttr\n",
      "z,1\n",
      "s,2\n",
      "e,1\n",
      "r,2\n",
      "t,2\n"
     ]
    }
   ],
   "source": [
    "dic = {}\n",
    "s=input('Enter string')\n",
    "for p in s:\n",
    "    dic[p] = dic.get(p,0)+1\n",
    "print('\\n'.join(['%s,%s' % (k, v) for k, v in dic.items()]))\n"
   ]
  },
  {
   "cell_type": "code",
   "execution_count": 11,
   "id": "3f2db1b4",
   "metadata": {},
   "outputs": [
    {
     "name": "stdout",
     "output_type": "stream",
     "text": [
      "[35]\n"
     ]
    }
   ],
   "source": [
    "set1={1,3,6,78,35,55}\n",
    "set2={12,24,35,24,88,120,155}\n",
    "set1 &= set2\n",
    "li=list(set1)\n",
    "print(li)\n"
   ]
  },
  {
   "cell_type": "code",
   "execution_count": 12,
   "id": "f10cbf05",
   "metadata": {},
   "outputs": [
    {
     "name": "stdout",
     "output_type": "stream",
     "text": [
      "[12, 35, 88, 120, 155]\n"
     ]
    }
   ],
   "source": [
    "li = [12,24,35,24,88,120,155]\n",
    "\n",
    "li = [x for x in li if x!=24]\n",
    "\n",
    "print(li)\n",
    "\n"
   ]
  },
  {
   "cell_type": "code",
   "execution_count": 13,
   "id": "fe530bc1",
   "metadata": {},
   "outputs": [
    {
     "name": "stdout",
     "output_type": "stream",
     "text": [
      "[24, 35, 70, 155]\n"
     ]
    }
   ],
   "source": [
    "li = [12,24,35,70,88,120,155]\n",
    "li = [x for (i,x) in enumerate(li) if i not in (0,4,5)]\n",
    "print(li)\n"
   ]
  },
  {
   "cell_type": "code",
   "execution_count": 14,
   "id": "cfbc9efe",
   "metadata": {},
   "outputs": [
    {
     "name": "stdout",
     "output_type": "stream",
     "text": [
      "[12, 24, 88, 120, 155]\n"
     ]
    }
   ],
   "source": [
    "li = [12,24,35,70,88,120,155]\n",
    "li = [x for x in li if not (x%5 ==0 and x%7==0)]\n",
    "print(li)"
   ]
  },
  {
   "cell_type": "code",
   "execution_count": 21,
   "id": "8d092045",
   "metadata": {},
   "outputs": [
    {
     "name": "stdout",
     "output_type": "stream",
     "text": [
      "Enter a number: 5\n",
      "3.55\n"
     ]
    }
   ],
   "source": [
    "n = int(input(\"Enter a number: \"))\n",
    "sum = 0.0\n",
    "for i in range(1,n+1):\n",
    "    sum = sum + float((float)(i)/(i+1))\n",
    "print('%.2f' % sum)"
   ]
  },
  {
   "cell_type": "code",
   "execution_count": null,
   "id": "793bf5d4",
   "metadata": {},
   "outputs": [],
   "source": []
  }
 ],
 "metadata": {
  "kernelspec": {
   "display_name": "Python 3 (ipykernel)",
   "language": "python",
   "name": "python3"
  },
  "language_info": {
   "codemirror_mode": {
    "name": "ipython",
    "version": 3
   },
   "file_extension": ".py",
   "mimetype": "text/x-python",
   "name": "python",
   "nbconvert_exporter": "python",
   "pygments_lexer": "ipython3",
   "version": "3.9.12"
  }
 },
 "nbformat": 4,
 "nbformat_minor": 5
}
