{
 "cells": [
  {
   "cell_type": "code",
   "execution_count": 4,
   "id": "ed6d2a96",
   "metadata": {},
   "outputs": [
    {
     "name": "stdout",
     "output_type": "stream",
     "text": [
      "factor is odd:  1\n",
      "Factor is even: 2\n",
      "factor is odd:  5\n",
      "Factor is even: 10\n",
      "factor is odd:  25\n",
      "Factor is even: 50\n"
     ]
    }
   ],
   "source": [
    "num=50\n",
    "for i in range(1,num+1):\n",
    "    rem=num%i\n",
    "\n",
    "    if(rem==0):\n",
    "        if(i%2==0):\n",
    "            print(\"Factor is even:\",i)\n",
    "        else:\n",
    "            print(\"factor is odd: \",i)\n",
    "\n",
    "    "
   ]
  },
  {
   "cell_type": "code",
   "execution_count": 6,
   "id": "b8f49da0",
   "metadata": {},
   "outputs": [
    {
     "name": "stdout",
     "output_type": "stream",
     "text": [
      "Enter a sequence of words:Welcome To Python\n",
      "The sorted words are\n",
      "Python\n",
      "To\n",
      "Welcome\n"
     ]
    }
   ],
   "source": [
    "my_str = input(\"Enter a sequence of words:\")\n",
    "words = my_str.split(\" \")\n",
    "words.sort()\n",
    "print(\"The sorted words are\")\n",
    "for i in words:\n",
    "    print(i)"
   ]
  },
  {
   "cell_type": "code",
   "execution_count": 7,
   "id": "9263e208",
   "metadata": {},
   "outputs": [
    {
     "name": "stdout",
     "output_type": "stream",
     "text": [
      "2000,2002,2004,2006,2008,2020,2022,2024,2026,2028,2040,2042,2044,2046,2048,2060,2062,2064,2066,2068,2080,2082,2084,2086,2088,2200,2202,2204,2206,2208,2220,2222,2224,2226,2228,2240,2242,2244,2246,2248,2260,2262,2264,2266,2268,2280,2282,2284,2286,2288,2400,2402,2404,2406,2408,2420,2422,2424,2426,2428,2440,2442,2444,2446,2448,2460,2462,2464,2466,2468,2480,2482,2484,2486,2488,2600,2602,2604,2606,2608,2620,2622,2624,2626,2628,2640,2642,2644,2646,2648,2660,2662,2664,2666,2668,2680,2682,2684,2686,2688,2800,2802,2804,2806,2808,2820,2822,2824,2826,2828,2840,2842,2844,2846,2848,2860,2862,2864,2866,2868,2880,2882,2884,2886,2888\n"
     ]
    }
   ],
   "source": [
    "values = []\n",
    "for i in range(1000,3001):\n",
    "    s = str(i)\n",
    "    if (int(s[0])%2==0) and (int(s[1])%2==0) and (int(s[2])%2==0) and (int(s[3])%2==0):\n",
    "        values.append(s)\n",
    "\n",
    "print (\",\".join(values))\n"
   ]
  },
  {
   "cell_type": "code",
   "execution_count": 9,
   "id": "3a28886f",
   "metadata": {},
   "outputs": [
    {
     "name": "stdout",
     "output_type": "stream",
     "text": [
      "Enter the sentence contain only alphabets and numbers: 342fsre542\n",
      "LETTERS 4\n",
      "DIGITS 6\n"
     ]
    }
   ],
   "source": [
    "s = input(\"Enter the sentence contain only alphabets and numbers: \")\n",
    "d={\"DIGITS\":0, \"LETTERS\":0}\n",
    "for c in s:\n",
    "    if c.isdigit():\n",
    "        d[\"DIGITS\"]+=1\n",
    "    elif c.isalpha():\n",
    "        d[\"LETTERS\"]+=1\n",
    "    else:\n",
    "        pass\n",
    "print(\"LETTERS\", d[\"LETTERS\"])\n",
    "print(\"DIGITS\", d[\"DIGITS\"])\n"
   ]
  },
  {
   "cell_type": "code",
   "execution_count": 17,
   "id": "2b15f956",
   "metadata": {},
   "outputs": [
    {
     "name": "stdout",
     "output_type": "stream",
     "text": [
      "Enter the number to be checked: 343\n",
      "Number is palindrome\n"
     ]
    }
   ],
   "source": [
    "i = input(\"Enter the number to be checked: \")\n",
    "st = reversed(i)\n",
    "if list(i)==list(st):\n",
    "    print(\"Number is palindrome\")\n",
    "else:\n",
    "    print(\"Number is not palindrome\")"
   ]
  },
  {
   "cell_type": "code",
   "execution_count": null,
   "id": "057a520c",
   "metadata": {},
   "outputs": [],
   "source": []
  }
 ],
 "metadata": {
  "kernelspec": {
   "display_name": "Python 3 (ipykernel)",
   "language": "python",
   "name": "python3"
  },
  "language_info": {
   "codemirror_mode": {
    "name": "ipython",
    "version": 3
   },
   "file_extension": ".py",
   "mimetype": "text/x-python",
   "name": "python",
   "nbconvert_exporter": "python",
   "pygments_lexer": "ipython3",
   "version": "3.9.12"
  }
 },
 "nbformat": 4,
 "nbformat_minor": 5
}
